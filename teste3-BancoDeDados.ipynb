{
 "cells": [
  {
   "cell_type": "markdown",
   "id": "8a9fba2f",
   "metadata": {},
   "source": [
    "# Teste 3 - Banco de Dados"
   ]
  },
  {
   "cell_type": "markdown",
   "id": "7cb3c069",
   "metadata": {},
   "source": [
    "### Etapa 1: Preparação dos Dados"
   ]
  },
  {
   "cell_type": "markdown",
   "id": "8ef0d204",
   "metadata": {},
   "source": [
    "Para preparação dos dados, realizamos antecipadamente o download dos dados dos últimos 2 anos das demonstrações contábeis como solicitado, e os zips de cada trimestre como foi encontrado, foram colocados dentro da pasta <code>demonstracoes_contabeis/zips</code>. Logo em seguida, usamos a biblioteca <code>zipfile</code> para manipular os zips e colocar todos os csvs juntos na pasta <code>demonstracoes_contabeis/csvs</code>."
   ]
  },
  {
   "cell_type": "code",
   "execution_count": 1,
   "id": "5f012499",
   "metadata": {},
   "outputs": [],
   "source": [
    "import pandas as pd\n",
    "import os\n",
    "import zipfile"
   ]
  },
  {
   "cell_type": "code",
   "execution_count": 2,
   "id": "17f6532b",
   "metadata": {},
   "outputs": [],
   "source": [
    "zip_dir = 'demonstracoes_contabeis/zips'\n",
    "csv_dir = 'demonstracoes_contabeis/csvs'"
   ]
  },
  {
   "cell_type": "code",
   "execution_count": 3,
   "id": "7d6acab1",
   "metadata": {},
   "outputs": [],
   "source": [
    "for filename in os.listdir(zip_dir):\n",
    "    with zipfile.ZipFile(f'{zip_dir}/{filename}', 'r') as zip_ref:    \n",
    "        for csv_file in zip_ref.namelist():\n",
    "            zip_ref.extract(csv_file, csv_dir)"
   ]
  },
  {
   "cell_type": "markdown",
   "id": "80c9044a",
   "metadata": {},
   "source": [
    "Em seguida, realizamos a junção de todos os csvs em um único. Dando uma olhada nos arquivos csv separadamente, é possível observar diferenças nos tipos de armazenamento entre eles, por isso realizamos uma pequena manipulação usando <code>Pandas</code> para uma junção consistente dos dados."
   ]
  },
  {
   "cell_type": "markdown",
   "id": "a00cbf28",
   "metadata": {},
   "source": [
    "Primeiro as datas foram padronizadas no padrão <code>Y-m-d</code> utilizado do SQL. Alguns descrições tiveram seus <i>encodes</i> ajustados e os valores dos saldos foram padronizados no modelo decimal com <code>.</code> também utilizado pelo SQL."
   ]
  },
  {
   "cell_type": "code",
   "execution_count": 4,
   "id": "bae8047a",
   "metadata": {},
   "outputs": [],
   "source": [
    "df_all = []\n",
    "for filename in os.listdir(csv_dir):\n",
    "    df = pd.read_csv(f'{csv_dir}/{filename}',delimiter=';',encoding='latin-1')\n",
    "    \n",
    "    df['DATA'] = pd.to_datetime(df['DATA'], infer_datetime_format=True)\n",
    "    df['DATA'] = df['DATA'].dt.strftime('%Y-%m-%d')\n",
    "    \n",
    "    if 'VL_SALDO_INICIAL' in df:\n",
    "        df['VL_SALDO_INICIAL'] = df['VL_SALDO_INICIAL'].apply(lambda x:float(x.replace(\",\",\".\")))\n",
    "    df['VL_SALDO_FINAL'] = df['VL_SALDO_FINAL'].apply(lambda x:float(x.replace(\",\",\".\")))\n",
    "    \n",
    "    try:\n",
    "        df['DESCRICAO'] = df['DESCRICAO'].apply(lambda x: x.encode(\"latin-1\").decode(\"utf-8\"))\n",
    "    except:\n",
    "        pass\n",
    "    \n",
    "    df_all.append(df)"
   ]
  },
  {
   "cell_type": "markdown",
   "id": "d5bdbf93",
   "metadata": {},
   "source": [
    "Logo, foi possível realizarmos a junção desejada e salvamos tudo em um único csv:"
   ]
  },
  {
   "cell_type": "code",
   "execution_count": 7,
   "id": "47533b92",
   "metadata": {},
   "outputs": [],
   "source": [
    "result = pd.concat(df_all)\n",
    "result.to_csv('demonstracoes_contabeis/all_data.csv', sep=\";\", index=False)"
   ]
  },
  {
   "cell_type": "code",
   "execution_count": 8,
   "id": "d13fa4fe",
   "metadata": {},
   "outputs": [
    {
     "data": {
      "text/html": [
       "<div>\n",
       "<style scoped>\n",
       "    .dataframe tbody tr th:only-of-type {\n",
       "        vertical-align: middle;\n",
       "    }\n",
       "\n",
       "    .dataframe tbody tr th {\n",
       "        vertical-align: top;\n",
       "    }\n",
       "\n",
       "    .dataframe thead th {\n",
       "        text-align: right;\n",
       "    }\n",
       "</style>\n",
       "<table border=\"1\" class=\"dataframe\">\n",
       "  <thead>\n",
       "    <tr style=\"text-align: right;\">\n",
       "      <th></th>\n",
       "      <th>DATA</th>\n",
       "      <th>REG_ANS</th>\n",
       "      <th>CD_CONTA_CONTABIL</th>\n",
       "      <th>DESCRICAO</th>\n",
       "      <th>VL_SALDO_INICIAL</th>\n",
       "      <th>VL_SALDO_FINAL</th>\n",
       "    </tr>\n",
       "  </thead>\n",
       "  <tbody>\n",
       "    <tr>\n",
       "      <th>0</th>\n",
       "      <td>2022-01-01</td>\n",
       "      <td>406805</td>\n",
       "      <td>46511</td>\n",
       "      <td>IMPOSTOS</td>\n",
       "      <td>0.0</td>\n",
       "      <td>2574.46</td>\n",
       "    </tr>\n",
       "    <tr>\n",
       "      <th>1</th>\n",
       "      <td>2022-01-01</td>\n",
       "      <td>406805</td>\n",
       "      <td>465119</td>\n",
       "      <td>Impostos</td>\n",
       "      <td>0.0</td>\n",
       "      <td>2574.46</td>\n",
       "    </tr>\n",
       "    <tr>\n",
       "      <th>2</th>\n",
       "      <td>2022-01-01</td>\n",
       "      <td>406805</td>\n",
       "      <td>46511901</td>\n",
       "      <td>Impostos</td>\n",
       "      <td>0.0</td>\n",
       "      <td>2574.46</td>\n",
       "    </tr>\n",
       "    <tr>\n",
       "      <th>3</th>\n",
       "      <td>2022-01-01</td>\n",
       "      <td>406805</td>\n",
       "      <td>465119012</td>\n",
       "      <td>Impostos Estaduais</td>\n",
       "      <td>0.0</td>\n",
       "      <td>2570.46</td>\n",
       "    </tr>\n",
       "    <tr>\n",
       "      <th>4</th>\n",
       "      <td>2022-01-01</td>\n",
       "      <td>406805</td>\n",
       "      <td>465119019</td>\n",
       "      <td>Impostos Municipais</td>\n",
       "      <td>0.0</td>\n",
       "      <td>4.00</td>\n",
       "    </tr>\n",
       "    <tr>\n",
       "      <th>5</th>\n",
       "      <td>2022-01-01</td>\n",
       "      <td>406805</td>\n",
       "      <td>4652</td>\n",
       "      <td>CONTRIBUIÇÕES</td>\n",
       "      <td>0.0</td>\n",
       "      <td>11107.19</td>\n",
       "    </tr>\n",
       "    <tr>\n",
       "      <th>6</th>\n",
       "      <td>2022-01-01</td>\n",
       "      <td>406805</td>\n",
       "      <td>46521</td>\n",
       "      <td>CONTRIBUIÇÕES</td>\n",
       "      <td>0.0</td>\n",
       "      <td>11107.19</td>\n",
       "    </tr>\n",
       "    <tr>\n",
       "      <th>7</th>\n",
       "      <td>2022-01-01</td>\n",
       "      <td>406805</td>\n",
       "      <td>465219</td>\n",
       "      <td>Contribuições</td>\n",
       "      <td>0.0</td>\n",
       "      <td>11107.19</td>\n",
       "    </tr>\n",
       "    <tr>\n",
       "      <th>8</th>\n",
       "      <td>2022-01-01</td>\n",
       "      <td>406805</td>\n",
       "      <td>46521901</td>\n",
       "      <td>Contribuições</td>\n",
       "      <td>0.0</td>\n",
       "      <td>11107.19</td>\n",
       "    </tr>\n",
       "    <tr>\n",
       "      <th>9</th>\n",
       "      <td>2022-01-01</td>\n",
       "      <td>406805</td>\n",
       "      <td>465219019</td>\n",
       "      <td>Outras Contribuições</td>\n",
       "      <td>0.0</td>\n",
       "      <td>11107.19</td>\n",
       "    </tr>\n",
       "    <tr>\n",
       "      <th>10</th>\n",
       "      <td>2022-01-01</td>\n",
       "      <td>406805</td>\n",
       "      <td>4653</td>\n",
       "      <td>TAXA DE SAÚDE SUPLEMENTAR</td>\n",
       "      <td>0.0</td>\n",
       "      <td>7604.20</td>\n",
       "    </tr>\n",
       "    <tr>\n",
       "      <th>11</th>\n",
       "      <td>2022-01-01</td>\n",
       "      <td>406805</td>\n",
       "      <td>46531</td>\n",
       "      <td>TAXA DE SAÚDE SUPLEMENTAR</td>\n",
       "      <td>0.0</td>\n",
       "      <td>7604.20</td>\n",
       "    </tr>\n",
       "    <tr>\n",
       "      <th>12</th>\n",
       "      <td>2022-01-01</td>\n",
       "      <td>406805</td>\n",
       "      <td>465319</td>\n",
       "      <td>Taxa de Saúde Suplementar</td>\n",
       "      <td>0.0</td>\n",
       "      <td>7604.20</td>\n",
       "    </tr>\n",
       "    <tr>\n",
       "      <th>13</th>\n",
       "      <td>2022-01-01</td>\n",
       "      <td>406805</td>\n",
       "      <td>46531901</td>\n",
       "      <td>Taxa de Saúde Suplementar</td>\n",
       "      <td>0.0</td>\n",
       "      <td>7604.20</td>\n",
       "    </tr>\n",
       "    <tr>\n",
       "      <th>14</th>\n",
       "      <td>2022-01-01</td>\n",
       "      <td>406805</td>\n",
       "      <td>465319011</td>\n",
       "      <td>Taxa de Saúde Suplementar</td>\n",
       "      <td>0.0</td>\n",
       "      <td>7604.20</td>\n",
       "    </tr>\n",
       "    <tr>\n",
       "      <th>15</th>\n",
       "      <td>2022-01-01</td>\n",
       "      <td>406805</td>\n",
       "      <td>4658</td>\n",
       "      <td>OUTROS TRIBUTOS</td>\n",
       "      <td>0.0</td>\n",
       "      <td>3051.60</td>\n",
       "    </tr>\n",
       "    <tr>\n",
       "      <th>16</th>\n",
       "      <td>2022-01-01</td>\n",
       "      <td>406805</td>\n",
       "      <td>46581</td>\n",
       "      <td>OUTROS TRIBUTOS</td>\n",
       "      <td>0.0</td>\n",
       "      <td>3051.60</td>\n",
       "    </tr>\n",
       "    <tr>\n",
       "      <th>17</th>\n",
       "      <td>2022-01-01</td>\n",
       "      <td>406805</td>\n",
       "      <td>465819</td>\n",
       "      <td>Outros Tributos</td>\n",
       "      <td>0.0</td>\n",
       "      <td>3051.60</td>\n",
       "    </tr>\n",
       "    <tr>\n",
       "      <th>18</th>\n",
       "      <td>2022-01-01</td>\n",
       "      <td>406805</td>\n",
       "      <td>46581901</td>\n",
       "      <td>Outros Tributos</td>\n",
       "      <td>0.0</td>\n",
       "      <td>3051.60</td>\n",
       "    </tr>\n",
       "    <tr>\n",
       "      <th>19</th>\n",
       "      <td>2022-01-01</td>\n",
       "      <td>406805</td>\n",
       "      <td>465819019</td>\n",
       "      <td>Outros Tributos</td>\n",
       "      <td>0.0</td>\n",
       "      <td>3051.60</td>\n",
       "    </tr>\n",
       "  </tbody>\n",
       "</table>\n",
       "</div>"
      ],
      "text/plain": [
       "          DATA  REG_ANS  CD_CONTA_CONTABIL                  DESCRICAO  \\\n",
       "0   2022-01-01   406805              46511                   IMPOSTOS   \n",
       "1   2022-01-01   406805             465119                   Impostos   \n",
       "2   2022-01-01   406805           46511901                   Impostos   \n",
       "3   2022-01-01   406805          465119012         Impostos Estaduais   \n",
       "4   2022-01-01   406805          465119019        Impostos Municipais   \n",
       "5   2022-01-01   406805               4652              CONTRIBUIÇÕES   \n",
       "6   2022-01-01   406805              46521              CONTRIBUIÇÕES   \n",
       "7   2022-01-01   406805             465219              Contribuições   \n",
       "8   2022-01-01   406805           46521901              Contribuições   \n",
       "9   2022-01-01   406805          465219019       Outras Contribuições   \n",
       "10  2022-01-01   406805               4653  TAXA DE SAÚDE SUPLEMENTAR   \n",
       "11  2022-01-01   406805              46531  TAXA DE SAÚDE SUPLEMENTAR   \n",
       "12  2022-01-01   406805             465319  Taxa de Saúde Suplementar   \n",
       "13  2022-01-01   406805           46531901  Taxa de Saúde Suplementar   \n",
       "14  2022-01-01   406805          465319011  Taxa de Saúde Suplementar   \n",
       "15  2022-01-01   406805               4658            OUTROS TRIBUTOS   \n",
       "16  2022-01-01   406805              46581            OUTROS TRIBUTOS   \n",
       "17  2022-01-01   406805             465819            Outros Tributos   \n",
       "18  2022-01-01   406805           46581901            Outros Tributos   \n",
       "19  2022-01-01   406805          465819019            Outros Tributos   \n",
       "\n",
       "    VL_SALDO_INICIAL  VL_SALDO_FINAL  \n",
       "0                0.0         2574.46  \n",
       "1                0.0         2574.46  \n",
       "2                0.0         2574.46  \n",
       "3                0.0         2570.46  \n",
       "4                0.0            4.00  \n",
       "5                0.0        11107.19  \n",
       "6                0.0        11107.19  \n",
       "7                0.0        11107.19  \n",
       "8                0.0        11107.19  \n",
       "9                0.0        11107.19  \n",
       "10               0.0         7604.20  \n",
       "11               0.0         7604.20  \n",
       "12               0.0         7604.20  \n",
       "13               0.0         7604.20  \n",
       "14               0.0         7604.20  \n",
       "15               0.0         3051.60  \n",
       "16               0.0         3051.60  \n",
       "17               0.0         3051.60  \n",
       "18               0.0         3051.60  \n",
       "19               0.0         3051.60  "
      ]
     },
     "execution_count": 8,
     "metadata": {},
     "output_type": "execute_result"
    }
   ],
   "source": [
    "result.head(20)"
   ]
  },
  {
   "cell_type": "markdown",
   "id": "2076a006",
   "metadata": {},
   "source": [
    "### Etapa 2: Manipulando o SQL"
   ]
  },
  {
   "cell_type": "markdown",
   "id": "060f5df5",
   "metadata": {},
   "source": [
    "Feito o donwload do arquivo csv enviado para o Teste, exploramos ele um pouco para a criação do script de SQL a ser executado no Banco de Dados."
   ]
  },
  {
   "cell_type": "code",
   "execution_count": 10,
   "id": "ec6321fa",
   "metadata": {},
   "outputs": [
    {
     "data": {
      "text/html": [
       "<i>[Dados confidenciais]</i>"
      ],
      "text/plain": []
     },
     "execution_count": 10,
     "metadata": {},
     "output_type": "execute_result"
    }
   ],
   "source": [
    "df = pd.read_csv(\"Relatorio_cadop(1) (2) (1).csv\",skiprows=2,delimiter=';',encoding='latin-1')\n",
    "df.head(5)"
   ]
  },
  {
   "cell_type": "code",
   "execution_count": 11,
   "id": "e0421af2",
   "metadata": {},
   "outputs": [
    {
     "data": {
      "text/plain": [
       "Index(['Registro ANS', 'CNPJ', 'Razão Social', 'Nome Fantasia', 'Modalidade',\n",
       "       'Logradouro', 'Número', 'Complemento', 'Bairro', 'Cidade', 'UF', 'CEP',\n",
       "       'DDD', 'Telefone', 'Fax', 'Endereço eletrônico', 'Representante',\n",
       "       'Cargo Representante', 'Data Registro ANS'],\n",
       "      dtype='object')"
      ]
     },
     "execution_count": 11,
     "metadata": {},
     "output_type": "execute_result"
    }
   ],
   "source": [
    "df.columns"
   ]
  },
  {
   "cell_type": "markdown",
   "id": "f07636be",
   "metadata": {},
   "source": [
    "Logo, sabendo das colunas necessárias, criamos a <i>query</i> que irá criar a tabela de registros das operadoras nomerada de <code>operadoras_ativas</code>. Primeiro, é claro, criando nosso Banco de Dados e usando ele:"
   ]
  },
  {
   "cell_type": "raw",
   "id": "1b02c011",
   "metadata": {},
   "source": [
    "CREATE DATABASE psintutivecare;\n",
    "USE psintutivecare;"
   ]
  },
  {
   "cell_type": "raw",
   "id": "cf58b42a",
   "metadata": {},
   "source": [
    "CREATE TABLE operadoras_ativas (\n",
    "    registro_ans int NOT NULL,\n",
    "    cnpj bigint NOT NULL,\n",
    "    razao_social varchar(255) NOT NULL,\n",
    "    nome_fantasia varchar(100) NOT NULL,\n",
    "    modalidade varchar(100) NOT NULL,\n",
    "    logradouro varchar(255) NOT NULL,\n",
    "    numero varchar(50) NOT NULL,\n",
    "    complemento varchar(50) NOT NULL,\n",
    "    bairro varchar(100) NOT NULL,   \n",
    "    cidade varchar(100) NOT NULL,\n",
    "    uf varchar(50) NOT NULL,\n",
    "    cep varchar(50) NOT NULL,\n",
    "    ddd varchar(10) NOT NULL,\n",
    "    telefone varchar(50) NOT NULL,\n",
    "    fax varchar(50) NOT NULL,\n",
    "    email varchar(255) NOT NULL,\n",
    "    representante varchar(255) NOT NULL,\n",
    "    cargo_representante varchar(100) NOT NULL,\n",
    "    data_registro_ans varchar(50) NOT NULL,\n",
    "    PRIMARY KEY (registro_ans)\n",
    ");"
   ]
  },
  {
   "cell_type": "markdown",
   "id": "f9a03e32",
   "metadata": {},
   "source": [
    "E em seguida, exploraremos também o csv com todas as demostrações contáveis para a criação da tabela que irá armazenar tais dados:"
   ]
  },
  {
   "cell_type": "code",
   "execution_count": 13,
   "id": "d7885987",
   "metadata": {},
   "outputs": [
    {
     "data": {
      "text/plain": [
       "Index(['DATA', 'REG_ANS', 'CD_CONTA_CONTABIL', 'DESCRICAO', 'VL_SALDO_INICIAL',\n",
       "       'VL_SALDO_FINAL'],\n",
       "      dtype='object')"
      ]
     },
     "execution_count": 13,
     "metadata": {},
     "output_type": "execute_result"
    }
   ],
   "source": [
    "result.columns"
   ]
  },
  {
   "cell_type": "markdown",
   "id": "4718daa6",
   "metadata": {},
   "source": [
    "Assim, temos o seguinte script para a criação da tabela relacionada a qual nomearemos de <code>demonstracoes_contabeis</code>:"
   ]
  },
  {
   "cell_type": "raw",
   "id": "f4a38c4f",
   "metadata": {},
   "source": [
    "CREATE TABLE demonstracoes_contabeis (\n",
    "    data date,\n",
    "    reg_ans int NOT NULL,\n",
    "    cd_conta_contabil varchar(50) NOT NULL,\n",
    "    descricao varchar(255) NOT NULL,\n",
    "    vl_saldo_inicial decimal(25,2),\n",
    "    vl_saldo_final decimal(25,2)\n",
    ");"
   ]
  },
  {
   "cell_type": "markdown",
   "id": "a977ccd9",
   "metadata": {},
   "source": [
    "E por fim, criaremos os scripts que carregará os dados dos nossos csvs para as nossas tabelas:"
   ]
  },
  {
   "cell_type": "raw",
   "id": "81706c23",
   "metadata": {},
   "source": [
    "LOAD DATA INFILE 'Relatorio_cadop(1) (2) (1).csv' INTO TABLE operadoras_ativas\n",
    "CHARACTER SET latin1\n",
    "FIELDS TERMINATED BY ';'\n",
    "ENCLOSED BY '\"'\n",
    "LINES TERMINATED BY '\\r\\n'\n",
    "IGNORE 3 ROWS;"
   ]
  },
  {
   "cell_type": "raw",
   "id": "e1b6ccc9",
   "metadata": {},
   "source": [
    "LOAD DATA INFILE 'demonstracoes_contabeis/all_data.csv' INTO TABLE demonstracoes_contabeis\n",
    "CHARACTER SET utf8\n",
    "FIELDS TERMINATED BY ';'\n",
    "LINES TERMINATED BY '\\n'\n",
    "IGNORE 1 ROWS"
   ]
  },
  {
   "cell_type": "code",
   "execution_count": null,
   "id": "89229480",
   "metadata": {},
   "outputs": [],
   "source": []
  }
 ],
 "metadata": {
  "kernelspec": {
   "display_name": "Python 3 (ipykernel)",
   "language": "python",
   "name": "python3"
  },
  "language_info": {
   "codemirror_mode": {
    "name": "ipython",
    "version": 3
   },
   "file_extension": ".py",
   "mimetype": "text/x-python",
   "name": "python",
   "nbconvert_exporter": "python",
   "pygments_lexer": "ipython3",
   "version": "3.8.10"
  }
 },
 "nbformat": 4,
 "nbformat_minor": 5
}
