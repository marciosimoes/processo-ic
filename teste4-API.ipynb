{
 "cells": [
  {
   "cell_type": "markdown",
   "id": "5f444a55",
   "metadata": {},
   "source": [
    "# Teste 4 - API"
   ]
  },
  {
   "cell_type": "markdown",
   "id": "66fde658",
   "metadata": {},
   "source": [
    "Para este teste, primeiramente como pedido foi criado um servidor usando o <code>Flask</code> do Python para construir nossa API que devolve os resultados da busca, e posteriomente, foi criado nosso cliente usando a framework Vue.js para a realização da busca em si pelo usuário final."
   ]
  },
  {
   "cell_type": "markdown",
   "id": "01ed9160",
   "metadata": {},
   "source": [
    "O código do <code>app.py</code> que emulará nosso servidor Flask com a logica da pesquisa pode ser conferido a seguir:"
   ]
  },
  {
   "cell_type": "code",
   "execution_count": null,
   "id": "eb603b7f",
   "metadata": {},
   "outputs": [],
   "source": [
    "from flask import Flask, jsonify, request\n",
    "import mysql.connector as mysql\n",
    "\n",
    "app = Flask(__name__)\n",
    "\n",
    "conn = mysql.connect(\n",
    "    host='localhost',\n",
    "    user='root',\n",
    "    password='',\n",
    "    database='psintutivecare')\n",
    "    \n",
    "cursor = conn.cursor()\n",
    "\n",
    "def check_query(query):\n",
    "    if not query:\n",
    "        return jsonify([{\"erro\" : \"O parametro query está vazio.\"}])\n",
    "    return query\n",
    "\n",
    "def execute_query(query):\n",
    "    sql_query = f\"SELECT * FROM operadoras_ativas \\\n",
    "        WHERE registro_ans LIKE '%{query}%' \\\n",
    "        OR cnpj LIKE '%{query}%' \\\n",
    "        OR razao_social LIKE '%{query}%' \\\n",
    "        OR nome_fantasia LIKE '%{query}%'\"\n",
    "\n",
    "    cursor.execute(sql_query)\n",
    "    return cursor.fetchall()\n",
    "\n",
    "def jsonify_result(results):\n",
    "    if not results:\n",
    "        return jsonify([{\"erro\" : \"Nenhum resultado encontrado.\"}])\n",
    "    row_headers = [h[0] for h in cursor.description]\n",
    "    json_data = []\n",
    "    for result in results:\n",
    "        json_data.append(dict(zip(row_headers,result)))\n",
    "    return jsonify(json_data)\n",
    "\n",
    "@app.route('/buscar', methods=['GET'])\n",
    "def buscar():\n",
    "    query = request.args.get('query')\n",
    "    query = check_query(query)\n",
    "    results = execute_query(query)\n",
    "    \n",
    "    response = jsonify_result(results)\n",
    "    response.headers.add(\"Access-Control-Allow-Origin\", \"*\")\n",
    "    \n",
    "    return response"
   ]
  },
  {
   "cell_type": "markdown",
   "id": "13ece341",
   "metadata": {},
   "source": [
    "Algumas considerações:\n",
    "\n",
    "- O Flask conectou-se diretamente com o MySQL para a maninupação dos dados.\n",
    "- Para realizar a busca deve-se bater no end-point <code>/busca?query={termo buscado}</code>\n",
    "- É retornado um <code>json</code> com os resultados.\n",
    "- É buscado semelhanças do termo desejado com os campos Registro ANS, CNPJ, Razão Social e Nome fantasia.\n",
    "- Foi adicionado o header <code>Access-Control-Allow-Origin</code> para conseguirmos acessar a API de outras fontes (nosso cliente).\n",
    "   "
   ]
  },
  {
   "cell_type": "markdown",
   "id": "8d87cb42",
   "metadata": {},
   "source": [
    "<img src=\"imagens/json_api.png\" width=\"600\" height=\"600\">"
   ]
  },
  {
   "cell_type": "markdown",
   "id": "bf1bf3c5",
   "metadata": {},
   "source": [
    "Em seguida, foi criado nosso cliente Buscador utilizando o Vue.js, onde os principais arquivos foram o <code>main.js</code> e o <code>App.vue</code>."
   ]
  },
  {
   "cell_type": "code",
   "execution_count": null,
   "id": "c045f06a",
   "metadata": {},
   "outputs": [],
   "source": [
    "import { createApp } from 'vue'\n",
    "import App from './App.vue'\n",
    "\n",
    "export const eventBus = createApp(App)\n",
    "\n",
    "createApp(App).mount('#app')"
   ]
  },
  {
   "cell_type": "code",
   "execution_count": null,
   "id": "6fa88556",
   "metadata": {},
   "outputs": [],
   "source": [
    "<template>\n",
    "  <div class=\"container\">\n",
    "    <div class=\"jumbotron d-flex flex-column mx-4 my-4\">\n",
    "      <h1 class=\"display-4\">Operadoras</h1>\n",
    "      <p class=\"lead\">Busque as informações sobre as operadoras ativas aqui.</p>\n",
    "      <div class=\"form-group mb-3\">\n",
    "        <label for=\"query\">Buscar:</label>\n",
    "        <input type=\"text\" v-model=\"query\" id=\"query\" class=\"form-control\" placeholder=\"Digite a busca\">\n",
    "        <button @click=\"search\" class=\"btn btn-primary mx-2 my-2\">Pesquisar</button>\n",
    "      </div>\n",
    "    </div>\n",
    "    <div class=\"table-container mx-4 my-4\">\n",
    "      <h3 class=\"display-6\">Resultados:</h3>\n",
    "      <div class=\"table-responsive\">\n",
    "        <table class=\"table table-striped\">\n",
    "          <thead>\n",
    "            <tr>\n",
    "              <th v-for=\"header in headers\" :key=\"header\">{{ header }}</th>\n",
    "            </tr>\n",
    "          </thead>\n",
    "          <tbody>\n",
    "            <tr v-for=\"result in results\" :key=\"result.id\">\n",
    "              <td v-for=\"header in headers\" :key=\"header\">{{ result[header] }}</td>\n",
    "            </tr>\n",
    "          </tbody>\n",
    "        </table>\n",
    "      </div>\n",
    "    </div>\n",
    "  </div>\n",
    "</template>\n",
    "\n",
    "<script>\n",
    "const axios = require('axios');\n",
    "\n",
    "export default {\n",
    "  data() {\n",
    "    return {\n",
    "      query: '',\n",
    "      results: [],\n",
    "      headers: []\n",
    "    }\n",
    "  },\n",
    "  methods: {\n",
    "    async search() {\n",
    "      const response = await axios.get(`http://localhost:5000/buscar?query=${this.query}`)\n",
    "      console.log(response.data)\n",
    "      this.results = response.data\n",
    "      this.headers = Object.keys(this.results[0])\n",
    "    }\n",
    "  },\n",
    "}\n",
    "</script>"
   ]
  },
  {
   "cell_type": "markdown",
   "id": "4d004e3c",
   "metadata": {},
   "source": [
    "Os servidores foram colocados em uma instância EC2 da Amazon para teste e a url temporária foi enviada junto ao teste, como resultado final obtemos a seguinte visualização por parte do Cliente:"
   ]
  },
  {
   "cell_type": "markdown",
   "id": "fbaea32b",
   "metadata": {},
   "source": [
    "<img src=\"imagens/screen-cliente.gif\" width=\"700\" height=\"900\">"
   ]
  },
  {
   "cell_type": "markdown",
   "id": "18dc6d09",
   "metadata": {},
   "source": [
    "Todos esses códigos na estrutura correta podem ser encontrados na pasta <code>teste4-API</code>."
   ]
  }
 ],
 "metadata": {
  "kernelspec": {
   "display_name": "Python 3 (ipykernel)",
   "language": "python",
   "name": "python3"
  },
  "language_info": {
   "codemirror_mode": {
    "name": "ipython",
    "version": 3
   },
   "file_extension": ".py",
   "mimetype": "text/x-python",
   "name": "python",
   "nbconvert_exporter": "python",
   "pygments_lexer": "ipython3",
   "version": "3.8.10"
  }
 },
 "nbformat": 4,
 "nbformat_minor": 5
}
