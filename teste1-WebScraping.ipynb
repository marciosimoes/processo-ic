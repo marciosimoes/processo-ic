{
 "cells": [
  {
   "cell_type": "markdown",
   "id": "306d90a3",
   "metadata": {},
   "source": [
    "## Teste 1 - WebScraping"
   ]
  },
  {
   "cell_type": "markdown",
   "id": "bc26a447",
   "metadata": {},
   "source": [
    "Para este teste foi utilizando a biblioteca <code>BeautifulSoup</code> para explorar as páginas web, <code>Requests</code> para realização das requisições e o <code>Zipfile</code> para criar e manipular os arquivos zip. "
   ]
  },
  {
   "cell_type": "code",
   "execution_count": 1,
   "id": "d62ab1db",
   "metadata": {},
   "outputs": [],
   "source": [
    "import requests\n",
    "import zipfile\n",
    "import urllib.request\n",
    "from bs4 import BeautifulSoup"
   ]
  },
  {
   "cell_type": "markdown",
   "id": "4908c50a",
   "metadata": {},
   "source": [
    "Assim, realizamos a requisição da url e utilizamos o <code>BeautifulSoup</code>:"
   ]
  },
  {
   "cell_type": "code",
   "execution_count": 2,
   "id": "9ac22b3d",
   "metadata": {},
   "outputs": [],
   "source": [
    "url = requests.get('https://www.gov.br/ans/pt-br/assuntos/consumidor/o-que-o-seu-plano-de-saude-deve-cobrir-1/o-que-e-o-rol-de-procedimentos-e-evento-em-saude')\n",
    "soup = BeautifulSoup(url.content,\"lxml\")"
   ]
  },
  {
   "cell_type": "markdown",
   "id": "c6b7ef88",
   "metadata": {},
   "source": [
    "Como queremos os Anexos do I ao IV e somente eles usam tais nomes na página, separamos as palavras chaves a seguir para localizar os elementos em questão. Logo em seguida realizaremos a busca das urls com pdfs filtrando por tais palavras."
   ]
  },
  {
   "cell_type": "code",
   "execution_count": 3,
   "id": "abf2b754",
   "metadata": {},
   "outputs": [],
   "source": [
    "anexos = [\"Anexo I\", \"Anexo II\", \"Anexo III\", \"Anexo IV\"]\n",
    "urls = []"
   ]
  },
  {
   "cell_type": "code",
   "execution_count": 4,
   "id": "70e2d1be",
   "metadata": {},
   "outputs": [],
   "source": [
    "for a in soup.select(\"[href$='.pdf']\"):\n",
    "    for anexo in anexos:\n",
    "        if anexo in a.get_text():\n",
    "            urls.append(a['href'])\n",
    "            anexos.remove(anexo)"
   ]
  },
  {
   "cell_type": "markdown",
   "id": "e345f4e7",
   "metadata": {},
   "source": [
    "Assim, obtemos as urls desejadas:"
   ]
  },
  {
   "cell_type": "code",
   "execution_count": 5,
   "id": "b9fba956",
   "metadata": {},
   "outputs": [
    {
     "data": {
      "text/plain": [
       "['https://www.gov.br/ans/pt-br/arquivos/assuntos/consumidor/o-que-seu-plano-deve-cobrir/Anexo_I_Rol_2021RN_465.2021_RN473_RN478_RN480_RN513_RN536_RN537_RN538_RN539_RN541_RN542_RN544_546.pdf',\n",
       " 'https://www.gov.br/ans/pt-br/arquivos/assuntos/consumidor/o-que-seu-plano-deve-cobrir/Anexo_II_DUT_2021_RN_465.2021_tea.br_RN473_RN477_RN478_RN480_RN513_RN536_RN537_RN538_RN539_RN540_RN541_RN542_RN544_546_550_553.pdf',\n",
       " 'https://www.gov.br/ans/pt-br/arquivos/assuntos/consumidor/o-que-seu-plano-deve-cobrir/Anexo_III_DC_2021_RN_465.2021.v2.pdf',\n",
       " 'https://www.gov.br/ans/pt-br/arquivos/assuntos/consumidor/o-que-seu-plano-deve-cobrir/Anexo_IV_PROUT_2021_RN_465.2021.v2.pdf']"
      ]
     },
     "execution_count": 5,
     "metadata": {},
     "output_type": "execute_result"
    }
   ],
   "source": [
    "urls"
   ]
  },
  {
   "cell_type": "markdown",
   "id": "2934a093",
   "metadata": {},
   "source": [
    "E finalmente fazemos os downloands dos pdfs já salvando no zip nomeado de <code>download_pdfs.zip</code>."
   ]
  },
  {
   "cell_type": "code",
   "execution_count": 6,
   "id": "36805832",
   "metadata": {},
   "outputs": [],
   "source": [
    "with zipfile.ZipFile(\"download_pdfs.zip\", \"w\") as zip:\n",
    "    for url in urls:\n",
    "        response = urllib.request.urlopen(url)\n",
    "        pdf_file = response.read()\n",
    "        zip.writestr(url.split(\"/\")[-1], pdf_file)"
   ]
  },
  {
   "cell_type": "markdown",
   "id": "e0d270db",
   "metadata": {},
   "source": [
    "Foi criado também o script <code>teste1-WebScraping.py</code> que pode ser executado para fins de teste."
   ]
  }
 ],
 "metadata": {
  "kernelspec": {
   "display_name": "Python 3 (ipykernel)",
   "language": "python",
   "name": "python3"
  },
  "language_info": {
   "codemirror_mode": {
    "name": "ipython",
    "version": 3
   },
   "file_extension": ".py",
   "mimetype": "text/x-python",
   "name": "python",
   "nbconvert_exporter": "python",
   "pygments_lexer": "ipython3",
   "version": "3.8.10"
  }
 },
 "nbformat": 4,
 "nbformat_minor": 5
}
